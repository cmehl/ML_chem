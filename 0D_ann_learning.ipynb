{
 "cells": [
  {
   "cell_type": "markdown",
   "metadata": {},
   "source": [
    "# Machine learning applied to 0D reactors\n",
    "\n",
    "In this notebook, we will train neural networks to replace the CVODE solver of CANTERA. We will use the databases generated in the *0D_database_generation.ipynb* notebook."
   ]
  },
  {
   "cell_type": "markdown",
   "metadata": {},
   "source": [
    "## Imports and options"
   ]
  },
  {
   "cell_type": "code",
   "execution_count": 347,
   "metadata": {},
   "outputs": [
    {
     "name": "stdout",
     "output_type": "stream",
     "text": [
      "The autoreload extension is already loaded. To reload it, use:\n",
      "  %reload_ext autoreload\n"
     ]
    }
   ],
   "source": [
    "%load_ext autoreload\n",
    "%autoreload 2"
   ]
  },
  {
   "cell_type": "code",
   "execution_count": 348,
   "metadata": {},
   "outputs": [],
   "source": [
    "import os\n",
    "import json\n",
    "import joblib\n",
    "import numpy as np\n",
    "import pandas as pd\n",
    "\n",
    "import cantera as ct\n",
    "\n",
    "import torch\n",
    "import torch.nn as nn\n",
    "import torch.optim as optim\n",
    "\n",
    "import matplotlib.pyplot as plt\n",
    "import seaborn as sns\n",
    "sns.set_theme(\"notebook\")\n",
    "\n",
    "from chem_ai.cantera_runs import compute_nn_cantera_0D_homo\n",
    "from chem_ai.utils import get_molar_mass_atomic_matrix\n",
    "from chem_ai.utils import StandardScaler"
   ]
  },
  {
   "cell_type": "markdown",
   "metadata": {},
   "source": [
    "We set the default pytorch precision to double. It slows down a little bit the training but it is the usual standard for CFD reacting flows applications."
   ]
  },
  {
   "cell_type": "code",
   "execution_count": 349,
   "metadata": {},
   "outputs": [],
   "source": [
    "torch.set_default_dtype(torch.float64)"
   ]
  },
  {
   "cell_type": "markdown",
   "metadata": {},
   "source": [
    "We identify the device (CPU or GPU) available on the machine. This will be used by pytorch to identify the device on which to train and use the model:"
   ]
  },
  {
   "cell_type": "code",
   "execution_count": 350,
   "metadata": {},
   "outputs": [
    {
     "name": "stdout",
     "output_type": "stream",
     "text": [
      "Running on the GPU\n"
     ]
    }
   ],
   "source": [
    "if torch.cuda.is_available():\n",
    "  device = torch.device('cuda:0')\n",
    "  print('Running on the GPU')\n",
    "else:\n",
    "  device = torch.device('cpu')\n",
    "  print('Running on the CPU')"
   ]
  },
  {
   "cell_type": "markdown",
   "metadata": {},
   "source": [
    "## Preliminary\n",
    "\n",
    "### Loading the required data"
   ]
  },
  {
   "cell_type": "markdown",
   "metadata": {},
   "source": [
    "We define the folder including the desired database:"
   ]
  },
  {
   "cell_type": "code",
   "execution_count": 351,
   "metadata": {},
   "outputs": [],
   "source": [
    "folder = \"./case_0D_highT\" "
   ]
  },
  {
   "cell_type": "markdown",
   "metadata": {},
   "source": [
    "We load the parameters stored in the json file of the dabatase folder:"
   ]
  },
  {
   "cell_type": "code",
   "execution_count": 352,
   "metadata": {},
   "outputs": [],
   "source": [
    "with open(os.path.join(folder, \"dtb_params.json\"), \"r\") as file:\n",
    "    dtb_params = json.load(file)\n",
    "\n",
    "fuel = dtb_params[\"fuel\"]\n",
    "mech_file = dtb_params[\"mech_file\"]\n",
    "log_transform = dtb_params[\"log_transform\"]\n",
    "threshold = dtb_params[\"threshold\"]\n",
    "p = dtb_params[\"p\"]\n",
    "dt = dtb_params[\"dt\"]"
   ]
  },
  {
   "cell_type": "markdown",
   "metadata": {},
   "source": [
    "We load the scalers:"
   ]
  },
  {
   "cell_type": "code",
   "execution_count": 353,
   "metadata": {},
   "outputs": [],
   "source": [
    "Xscaler = joblib.load(os.path.join(folder, \"processed_database\", \"Xscaler.pkl\"))\n",
    "Yscaler = joblib.load(os.path.join(folder, \"processed_database\", \"Yscaler.pkl\"))"
   ]
  },
  {
   "cell_type": "markdown",
   "metadata": {},
   "source": [
    "We load the training and validation databases:"
   ]
  },
  {
   "cell_type": "code",
   "execution_count": 354,
   "metadata": {},
   "outputs": [],
   "source": [
    "X_train = pd.read_csv(os.path.join(folder, \"processed_database\",\"X_train.csv\"))\n",
    "X_val = pd.read_csv(os.path.join(folder, \"processed_database\",\"X_val.csv\"))\n",
    "Y_train = pd.read_csv(os.path.join(folder, \"processed_database\",\"Y_train.csv\"))\n",
    "Y_val = pd.read_csv(os.path.join(folder, \"processed_database\",\"Y_val.csv\"))\n",
    "\n",
    "Xcols = X_train.columns\n",
    "Ycols = Y_train.columns"
   ]
  },
  {
   "cell_type": "markdown",
   "metadata": {},
   "source": [
    "Number of input and output dimensions:"
   ]
  },
  {
   "cell_type": "code",
   "execution_count": 355,
   "metadata": {},
   "outputs": [],
   "source": [
    "n_in = X_train.shape[1]\n",
    "n_out = Y_train.shape[1]"
   ]
  },
  {
   "cell_type": "markdown",
   "metadata": {},
   "source": [
    "### Elements conservation matrix\n",
    "\n",
    "In combustion, elements (usually C, H, O, N) are preserved when a mixture undergoes chemical reactions, as there are no nuclear reactions. Therefore, the initial mass of elements of a mixture is conserved at the next time step and so on. For a 0D reactors (no mixing), elements mass fractions are constant for a given simulation.\n",
    "\n",
    "For a given element $j \\in {C, H, O, N}$, the mass fraction of this elements can be expressed as:\n",
    "\n",
    "$$\n",
    "Y_e^j = \\sum_{k=1}^{N_S} \\frac{M_j}{M_k} n_k^j Y_k\n",
    "$$\n",
    "\n",
    "where $M_j$ and $M_k$ are the molar masses of element $j$ and species $k$ respectively. $n_k^j$ is the number of atoms $j$ in species $k$. This equation can also be written in matrix form:\n",
    "\n",
    "$$\n",
    "Y_e = \\mathcal{A} Y\n",
    "$$\n",
    "\n",
    "where $Y_e \\in \\mathbb{R}^4$ is the vector of elements mass fractions and $Y \\in \\mathbb{R}^{N_S}$ the vector of species mass fractions. The matrix $\\mathcal{A} \\in \\mathbb{R}^{4 \\times N_S}$ is defined be the following coefficients:\n",
    "\n",
    "$$\n",
    "\\mathcal{A}_{jk} = \\frac{M_j}{M_k} n_k^j\n",
    "$$\n",
    "\n",
    "The matrix $\\mathcal{A}$ can be computed using the function *get_molar_mass_atomic_matrix* given in *utils.py*:\n"
   ]
  },
  {
   "cell_type": "code",
   "execution_count": 356,
   "metadata": {},
   "outputs": [
    {
     "name": "stdout",
     "output_type": "stream",
     "text": [
      "[[0.         0.         0.         0.         0.         0.\n",
      "  0.         0.         0.        ]\n",
      " [1.         1.         0.         0.         0.05926971 0.11190674\n",
      "  0.         0.0305399  0.05926971]\n",
      " [0.         0.         1.         1.         0.94073029 0.88809326\n",
      "  0.         0.9694601  0.94073029]\n",
      " [0.         0.         0.         0.         0.         0.\n",
      "  1.         0.         0.        ]]\n"
     ]
    }
   ],
   "source": [
    "gas = ct.Solution(mech_file)\n",
    "A_element = get_molar_mass_atomic_matrix(gas.species_names, fuel, True)\n",
    "print(A_element)"
   ]
  },
  {
   "cell_type": "markdown",
   "metadata": {},
   "source": [
    "This matrix will be helpful to analyze the conservation of elements in the training loop and at inference."
   ]
  },
  {
   "cell_type": "markdown",
   "metadata": {},
   "source": [
    "## Model definition and training"
   ]
  },
  {
   "cell_type": "markdown",
   "metadata": {},
   "source": [
    "The data loaded (scalers, training/validation sets, etc...) are in numpy format. In order to use them in a Pytorch training loop, we need to convert them to *torch* tensors. Those tensors are very similar to numpy arrays, with similar functions.\n",
    "\n",
    "We first transform training and validation datasets:"
   ]
  },
  {
   "cell_type": "code",
   "execution_count": 357,
   "metadata": {},
   "outputs": [],
   "source": [
    "X_train = torch.tensor(X_train.values, dtype=torch.float64)\n",
    "Y_train = torch.tensor(Y_train.values, dtype=torch.float64)\n",
    "X_val = torch.tensor(X_val.values, dtype=torch.float64)\n",
    "Y_val = torch.tensor(Y_val.values, dtype=torch.float64)"
   ]
  },
  {
   "cell_type": "markdown",
   "metadata": {},
   "source": [
    "In order to deal with the scaler, we decide to extract the mean and standard deviation and write the formula directly when necessary. These quantities are here converted to torch tensors:"
   ]
  },
  {
   "cell_type": "code",
   "execution_count": 358,
   "metadata": {},
   "outputs": [],
   "source": [
    "Xscaler_mean = torch.from_numpy(Xscaler.mean.values)\n",
    "Xscaler_std = torch.from_numpy(Xscaler.std.values)\n",
    "\n",
    "Yscaler_mean = torch.from_numpy(Yscaler.mean.values)\n",
    "Yscaler_std = torch.from_numpy(Yscaler.std.values)"
   ]
  },
  {
   "cell_type": "markdown",
   "metadata": {},
   "source": [
    "The conservation matrix $A$ also needs to be converted as it will be used during the training loop:"
   ]
  },
  {
   "cell_type": "code",
   "execution_count": 359,
   "metadata": {},
   "outputs": [],
   "source": [
    "A_element = torch.tensor(A_element, dtype=torch.float64)"
   ]
  },
  {
   "cell_type": "markdown",
   "metadata": {},
   "source": [
    "Another aspect is that the data needs to be on the correct device, as pytorch will look for the data on it. As CPU and GPU memory is not shared, we will have to manually move the data to the GPU if necessary. We do it here for training/validation data, scalers and conservation matrix:"
   ]
  },
  {
   "cell_type": "code",
   "execution_count": 360,
   "metadata": {},
   "outputs": [],
   "source": [
    "X_train = X_train.to(device)\n",
    "Y_train = Y_train.to(device)\n",
    "X_val = X_val.to(device)\n",
    "Y_val = Y_val.to(device)\n",
    "\n",
    "Xscaler_mean = Xscaler_mean.to(device)\n",
    "Xscaler_std = Xscaler_std.to(device)\n",
    "\n",
    "Yscaler_mean = Yscaler_mean.to(device)\n",
    "Yscaler_std = Yscaler_std.to(device)\n",
    "\n",
    "A_element = A_element.to(device)"
   ]
  },
  {
   "cell_type": "markdown",
   "metadata": {},
   "source": [
    "We now can generate the model. In this work, we will consider a simple Multi Layer Perceptron (MLP). We generate the model using Pytorch:"
   ]
  },
  {
   "cell_type": "code",
   "execution_count": 361,
   "metadata": {},
   "outputs": [],
   "source": [
    "class ChemNN(nn.Module):\n",
    "    def __init__(self):\n",
    "        super().__init__()\n",
    "        self.hidden1 = nn.Linear(n_in, 60)\n",
    "        self.act1 = nn.ReLU()\n",
    "        self.hidden2 = nn.Linear(60, 60)\n",
    "        self.act2 = nn.ReLU()\n",
    "        self.output = nn.Linear(60, n_out)\n",
    " \n",
    "    def forward(self, x):\n",
    "        x = self.act1(self.hidden1(x))\n",
    "        x = self.act2(self.hidden2(x))\n",
    "        x = self.output(x)\n",
    "        return x"
   ]
  },
  {
   "cell_type": "markdown",
   "metadata": {},
   "source": [
    "The model is then instantiated and transferred to the GPU if present:"
   ]
  },
  {
   "cell_type": "code",
   "execution_count": 362,
   "metadata": {},
   "outputs": [
    {
     "name": "stdout",
     "output_type": "stream",
     "text": [
      "ChemNN(\n",
      "  (hidden1): Linear(in_features=10, out_features=60, bias=True)\n",
      "  (act1): ReLU()\n",
      "  (hidden2): Linear(in_features=60, out_features=60, bias=True)\n",
      "  (act2): ReLU()\n",
      "  (output): Linear(in_features=60, out_features=9, bias=True)\n",
      ")\n"
     ]
    }
   ],
   "source": [
    "model = ChemNN()\n",
    "print(model)\n",
    "\n",
    "#Put model on GPU\n",
    "model = model.to(device)"
   ]
  },
  {
   "cell_type": "markdown",
   "metadata": {},
   "source": [
    "We now define hyperparameters of the training loop. The following choices need to be made:\n",
    "\n",
    "+ **n_epochs**: number of passes of entire training dataset through the algorithm.\n",
    "+ **batch_size**: size of the chunks passed to the algorithm at each parameters update.\n",
    "+ **loss_fn**: loss function. In this we choose the Mean Square Loss (MSE), which is adapted to the regression problem. Assuming that the output of the ANN is $Y_k^n$ (preprocessed mass fractions) and the true value is $Y_k^{n,*}$, the loss reads:\n",
    "\n",
    "$$ \n",
    "\\mathcal{L} = \\frac{1}{N} \\sum_{i=1}^{N} \\frac{1}{N_S} \\sum_{k=1}^{N_S} \\left( Y_{k,i}^n - Y_{k,i}^{n,*} \\right)^2\n",
    "$$\n",
    "\n",
    "where $N$ is the number of data points.\n",
    "\n",
    "+ **optimizer**: optimization method. We use here the standard Adam method with initial learning rate $lr$."
   ]
  },
  {
   "cell_type": "code",
   "execution_count": 363,
   "metadata": {},
   "outputs": [],
   "source": [
    "n_epochs = 300\n",
    "batch_size = 256\n",
    "\n",
    "loss_fn = nn.MSELoss()\n",
    "optimizer = optim.Adam(model.parameters(), lr=0.001)"
   ]
  },
  {
   "cell_type": "markdown",
   "metadata": {},
   "source": [
    "We perform now the main model training loop. In Pytorch the training loop needs to be written but offers flexibility in the way we can compute training monitoring quantities. In this loop, we decide to monitor conservation metrics, i.e. the sum of species mass fractions and the elements mass fractions variation.\n",
    "\n",
    "*Exercice 1:* Complete the training loop by computing monitoring metrics. Note that these metrics are computed every 10 epochs in order to limit the computational overhead.\n",
    "\n",
    "1. Compute the validation loss.\n",
    "\n",
    "2. From the conservation of mass we have $\\sum_{k=1}^{N_S} Y_k = 1$. Compute the mean, min and max of $\\sum_{k=1}^{N_S} Y_k$ over the entire validation dataset. \n",
    "\n",
    "3. Let us note $Y^{in}$ the mass fraction of species at the input of the ANN and $Y^{out}$ at the output (same for elemental mass fractions which are written $Y_e^{in}$ and $Y_e^{out}$). Elements conservation imposes $Y_e^{in}=Y_e^{out}$ which means $\\mathcal{A}Y^{in}=\\mathcal{A}Y^{out}$. We will consider here the quantity $\\delta Y_e = \\left( \\mathcal{A}Y^{out} - \\mathcal{A}Y^{in} \\right) / \\mathcal{A}Y^{in} \\in \\mathbb{R}^4$. Compute the mean, min and max of this quantity over the entire validation dataset.\n",
    "\n",
    "We give the following hints:\n",
    "\n",
    "+ Do not forget that input of output data of the ANN is preprocessed. For the scaling, you can use directly the mean and std values and the formula, as these vectors have been put to the GPU to that purpose.\n",
    "\n",
    "+ Metric arrays are defined as numpy arrays on CPU to be later plotted on matplotlib. In order to transfer a GPU torch tensor *tensor_torch* to a CPU numpy array you can use: *tensor_torch.detach().cpu().numpy()*.\n",
    "\n",
    "+ Matrix multiplication in pytorch can be done using the *torch.matmul* function and transpose by using *torch.transpose*."
   ]
  },
  {
   "cell_type": "code",
   "execution_count": 364,
   "metadata": {},
   "outputs": [],
   "source": [
    "def main_training_loop(X_train, X_val, Y_train, Y_val, loss_fn, optimizer, n_epochs, model, log_transform, need_ini_vals):\n",
    "\n",
    "    # Array to store the loss and validation loss\n",
    "    loss_list = np.empty(n_epochs)\n",
    "    val_loss_list = np.empty(n_epochs//10)\n",
    "\n",
    "    # Array to store sum of mass fractions: mean, min and max\n",
    "    stats_sum_yk = np.empty((n_epochs//10,3))\n",
    "\n",
    "    # Array to store elements conservation: mean, min and max\n",
    "    stats_A_elements = np.empty((n_epochs//10,4,3))\n",
    "\n",
    "    epochs = np.arange(n_epochs)\n",
    "    epochs_small = epochs[::10]\n",
    "\n",
    "    for epoch in range(n_epochs):\n",
    "\n",
    "        # Training parameters\n",
    "        for i in range(0, len(X_train), batch_size):\n",
    "\n",
    "            Xbatch = X_train[i:i+batch_size]\n",
    "            y_pred = model(Xbatch)\n",
    "            ybatch = Y_train[i:i+batch_size]\n",
    "            if need_ini_vals: #used for soft elements constraint later\n",
    "                loss = loss_fn(y_pred, ybatch, Xbatch[:,1:])\n",
    "            else:\n",
    "                loss = loss_fn(y_pred, ybatch)\n",
    "            optimizer.zero_grad()\n",
    "            loss.backward()\n",
    "            optimizer.step()\n",
    "\n",
    "        loss_list[epoch] = loss\n",
    "\n",
    "        # Computing validation loss and mass conservation metric (only every 10 epochs as it is expensive)\n",
    "        if epoch%10==0:\n",
    "            model.eval()  # evaluation mode\n",
    "            with torch.no_grad():\n",
    "\n",
    "                # VALIDATION LOSS\n",
    "                y_val_pred = model(X_val)\n",
    "                if need_ini_vals:\n",
    "                    val_loss = loss_fn(y_val_pred, Y_val, X_val[:,1:])\n",
    "                else:\n",
    "                    val_loss = loss_fn(y_val_pred, Y_val)\n",
    "\n",
    "                # SUM OF MASS FRACTION\n",
    "                #Inverse scale done by hand to stay with Torch arrays\n",
    "                yk = Yscaler_mean + (Yscaler_std + 1e-7)*y_val_pred\n",
    "                if log_transform:\n",
    "                    yk = torch.exp(yk)\n",
    "                sum_yk = yk.sum(axis=1)\n",
    "                sum_yk = sum_yk.detach().cpu().numpy()\n",
    "                stats_sum_yk[epoch//10,0] = sum_yk.mean() \n",
    "                stats_sum_yk[epoch//10,1] = sum_yk.min()\n",
    "                stats_sum_yk[epoch//10,2] = sum_yk.max()\n",
    "\n",
    "                # ELEMENTS CONSERVATION\n",
    "                yval_in = Xscaler_mean[1:] + (Xscaler_std[1:] + 1e-7)*X_val[:,1:]\n",
    "                if log_transform:\n",
    "                    yval_in = torch.exp(yval_in)\n",
    "                ye_in = torch.matmul(A_element, torch.transpose(yval_in, 0, 1))\n",
    "                ye_out = torch.matmul(A_element, torch.transpose(yk, 0, 1))\n",
    "                delta_ye = (ye_out - ye_in)/(ye_in+1e-10)\n",
    "                delta_ye = delta_ye.detach().cpu().numpy()\n",
    "                stats_A_elements[epoch//10, :, 0] = delta_ye.mean(axis=1)\n",
    "                stats_A_elements[epoch//10, :, 1] = delta_ye.min(axis=1)\n",
    "                stats_A_elements[epoch//10, :, 2] = delta_ye.max(axis=1)\n",
    "\n",
    "            model.train()   # Back to training mode\n",
    "            val_loss_list[epoch//10] = val_loss\n",
    "\n",
    "        print(f\"Finished epoch {epoch}\")\n",
    "        print(f\"    >> Loss: {loss}\")\n",
    "        if epoch%10==0:\n",
    "            print(f\"    >> Validation loss: {val_loss}\")\n",
    "\n",
    "    return epochs, epochs_small, loss_list, val_loss_list, stats_sum_yk, stats_A_elements"
   ]
  },
  {
   "cell_type": "code",
   "execution_count": 365,
   "metadata": {},
   "outputs": [
    {
     "name": "stdout",
     "output_type": "stream",
     "text": [
      "Finished epoch 0\n",
      "    >> Loss: 0.007200899974560332\n",
      "    >> Validation loss: 0.09437637985852795\n",
      "Finished epoch 1\n",
      "    >> Loss: 0.0023777384595056487\n",
      "Finished epoch 2\n",
      "    >> Loss: 0.0020491957069766658\n",
      "Finished epoch 3\n",
      "    >> Loss: 0.0016024982968950367\n",
      "Finished epoch 4\n",
      "    >> Loss: 0.00157799133786698\n",
      "Finished epoch 5\n",
      "    >> Loss: 0.001058692402134155\n",
      "Finished epoch 6\n",
      "    >> Loss: 0.0005545795688423678\n",
      "Finished epoch 7\n",
      "    >> Loss: 0.000404080595925145\n",
      "Finished epoch 8\n",
      "    >> Loss: 0.00041702183987925344\n",
      "Finished epoch 9\n",
      "    >> Loss: 0.0004263969820268434\n",
      "Finished epoch 10\n",
      "    >> Loss: 0.0003516415850201528\n",
      "    >> Validation loss: 0.005448609332093052\n",
      "Finished epoch 11\n",
      "    >> Loss: 0.0002839235283304963\n",
      "Finished epoch 12\n",
      "    >> Loss: 0.00023759001988904338\n",
      "Finished epoch 13\n",
      "    >> Loss: 0.00022950392403054307\n"
     ]
    },
    {
     "name": "stdout",
     "output_type": "stream",
     "text": [
      "Finished epoch 14\n",
      "    >> Loss: 0.0002554779488054651\n",
      "Finished epoch 15\n",
      "    >> Loss: 0.0002493506347317209\n",
      "Finished epoch 16\n",
      "    >> Loss: 0.0002353427581876181\n",
      "Finished epoch 17\n",
      "    >> Loss: 0.000235747640979951\n",
      "Finished epoch 18\n",
      "    >> Loss: 0.0002291012074573664\n",
      "Finished epoch 19\n",
      "    >> Loss: 0.0002220177532276232\n",
      "Finished epoch 20\n",
      "    >> Loss: 0.00021080258281768184\n",
      "    >> Validation loss: 0.0029645810943988893\n",
      "Finished epoch 21\n",
      "    >> Loss: 0.00020825519602009815\n",
      "Finished epoch 22\n",
      "    >> Loss: 0.00021328549766611005\n",
      "Finished epoch 23\n",
      "    >> Loss: 0.0002170122356916967\n",
      "Finished epoch 24\n",
      "    >> Loss: 0.00022088694741213716\n",
      "Finished epoch 25\n",
      "    >> Loss: 0.0002109496340894298\n",
      "Finished epoch 26\n",
      "    >> Loss: 0.00018881914378763404\n",
      "Finished epoch 27\n",
      "    >> Loss: 0.00017449699765282594\n",
      "Finished epoch 28\n",
      "    >> Loss: 0.00016568208863701597\n",
      "Finished epoch 29\n",
      "    >> Loss: 0.00015968977155638854\n",
      "Finished epoch 30\n",
      "    >> Loss: 0.00015240415839747504\n",
      "    >> Validation loss: 0.00216772617378142\n",
      "Finished epoch 31\n",
      "    >> Loss: 0.00014806425307066913\n",
      "Finished epoch 32\n",
      "    >> Loss: 0.00014494427828745044\n",
      "Finished epoch 33\n",
      "    >> Loss: 0.00014644783837391303\n",
      "Finished epoch 34\n",
      "    >> Loss: 0.00014520923686067613\n",
      "Finished epoch 35\n",
      "    >> Loss: 0.00015035583148398178\n",
      "Finished epoch 36\n",
      "    >> Loss: 0.000157952030382519\n",
      "Finished epoch 37\n",
      "    >> Loss: 0.00016040974689452697\n",
      "Finished epoch 38\n",
      "    >> Loss: 0.00016471393328086847\n",
      "Finished epoch 39\n",
      "    >> Loss: 0.00016025915004374286\n",
      "Finished epoch 40\n",
      "    >> Loss: 0.00015093774020587478\n",
      "    >> Validation loss: 0.0016009818883509492\n",
      "Finished epoch 41\n",
      "    >> Loss: 0.00015335740236474614\n",
      "Finished epoch 42\n",
      "    >> Loss: 0.0001486402380319156\n",
      "Finished epoch 43\n",
      "    >> Loss: 0.00014368117974750415\n",
      "Finished epoch 44\n",
      "    >> Loss: 0.000138588052178008\n",
      "Finished epoch 45\n",
      "    >> Loss: 0.00013169751904835273\n",
      "Finished epoch 46\n",
      "    >> Loss: 0.0001358139516044556\n",
      "Finished epoch 47\n",
      "    >> Loss: 0.0001401735525922713\n",
      "Finished epoch 48\n",
      "    >> Loss: 0.00013226208061725724\n",
      "Finished epoch 49\n",
      "    >> Loss: 0.00012448713097675055\n",
      "Finished epoch 50\n",
      "    >> Loss: 0.00011318242704896532\n",
      "    >> Validation loss: 0.0006461427655208555\n",
      "Finished epoch 51\n",
      "    >> Loss: 0.00010382177829954049\n",
      "Finished epoch 52\n",
      "    >> Loss: 9.48417303029901e-05\n",
      "Finished epoch 53\n",
      "    >> Loss: 8.52997628445066e-05\n",
      "Finished epoch 54\n",
      "    >> Loss: 7.848201856684493e-05\n",
      "Finished epoch 55\n",
      "    >> Loss: 7.197057750936031e-05\n",
      "Finished epoch 56\n",
      "    >> Loss: 6.70027159093916e-05\n",
      "Finished epoch 57\n",
      "    >> Loss: 6.353956395876379e-05\n",
      "Finished epoch 58\n",
      "    >> Loss: 6.195672932005545e-05\n",
      "Finished epoch 59\n",
      "    >> Loss: 5.9656201020858006e-05\n",
      "Finished epoch 60\n",
      "    >> Loss: 5.727374886536379e-05\n",
      "    >> Validation loss: 0.0004159610715759985\n",
      "Finished epoch 61\n",
      "    >> Loss: 5.220037430904521e-05\n",
      "Finished epoch 62\n",
      "    >> Loss: 4.867427873160998e-05\n",
      "Finished epoch 63\n",
      "    >> Loss: 4.4095400713916656e-05\n",
      "Finished epoch 64\n",
      "    >> Loss: 4.10924773174425e-05\n",
      "Finished epoch 65\n",
      "    >> Loss: 3.92619330757936e-05\n",
      "Finished epoch 66\n",
      "    >> Loss: 3.738814641857596e-05\n",
      "Finished epoch 67\n",
      "    >> Loss: 3.741234907625748e-05\n",
      "Finished epoch 68\n",
      "    >> Loss: 3.721899183997856e-05\n",
      "Finished epoch 69\n",
      "    >> Loss: 3.590149604841304e-05\n",
      "Finished epoch 70\n",
      "    >> Loss: 3.514843293811678e-05\n",
      "    >> Validation loss: 0.0004969428204546413\n",
      "Finished epoch 71\n",
      "    >> Loss: 3.5120134665773435e-05\n",
      "Finished epoch 72\n",
      "    >> Loss: 3.608532413708222e-05\n",
      "Finished epoch 73\n",
      "    >> Loss: 3.521942357394681e-05\n",
      "Finished epoch 74\n",
      "    >> Loss: 3.452286563019742e-05\n",
      "Finished epoch 75\n",
      "    >> Loss: 3.399202692079407e-05\n",
      "Finished epoch 76\n",
      "    >> Loss: 3.471800396300112e-05\n",
      "Finished epoch 77\n",
      "    >> Loss: 3.6403720720663986e-05\n",
      "Finished epoch 78\n",
      "    >> Loss: 3.525437957310805e-05\n",
      "Finished epoch 79\n",
      "    >> Loss: 3.47303258965692e-05\n",
      "Finished epoch 80\n",
      "    >> Loss: 3.6249009317580586e-05\n",
      "    >> Validation loss: 0.0005780930656178509\n",
      "Finished epoch 81\n",
      "    >> Loss: 3.4815886260791e-05\n",
      "Finished epoch 82\n",
      "    >> Loss: 3.526285807390229e-05\n",
      "Finished epoch 83\n",
      "    >> Loss: 3.534713350712605e-05\n",
      "Finished epoch 84\n",
      "    >> Loss: 3.5187806204699103e-05\n",
      "Finished epoch 85\n",
      "    >> Loss: 3.525025010924955e-05\n",
      "Finished epoch 86\n",
      "    >> Loss: 3.44587755108681e-05\n",
      "Finished epoch 87\n",
      "    >> Loss: 3.234491976463716e-05\n",
      "Finished epoch 88\n",
      "    >> Loss: 3.4526767063070384e-05\n",
      "Finished epoch 89\n",
      "    >> Loss: 3.033228950949436e-05\n",
      "Finished epoch 90\n",
      "    >> Loss: 3.0439790158829363e-05\n",
      "    >> Validation loss: 0.0004931075454361506\n",
      "Finished epoch 91\n",
      "    >> Loss: 2.9627039252613817e-05\n",
      "Finished epoch 92\n",
      "    >> Loss: 2.8744165238896575e-05\n",
      "Finished epoch 93\n",
      "    >> Loss: 2.743289495012304e-05\n",
      "Finished epoch 94\n",
      "    >> Loss: 2.807145200028825e-05\n",
      "Finished epoch 95\n",
      "    >> Loss: 2.5884276665411143e-05\n",
      "Finished epoch 96\n",
      "    >> Loss: 2.6316974762923895e-05\n",
      "Finished epoch 97\n",
      "    >> Loss: 3.193028573797109e-05\n",
      "Finished epoch 98\n",
      "    >> Loss: 3.999231965217611e-05\n",
      "Finished epoch 99\n",
      "    >> Loss: 5.547959950460051e-05\n",
      "Finished epoch 100\n",
      "    >> Loss: 7.141728684055235e-05\n",
      "    >> Validation loss: 0.0008245476718736734\n",
      "Finished epoch 101\n",
      "    >> Loss: 6.52829542104488e-05\n",
      "Finished epoch 102\n",
      "    >> Loss: 5.780308667844923e-05\n",
      "Finished epoch 103\n",
      "    >> Loss: 4.8205255705136e-05\n",
      "Finished epoch 104\n",
      "    >> Loss: 5.011406546584512e-05\n",
      "Finished epoch 105\n",
      "    >> Loss: 4.898249719358463e-05\n",
      "Finished epoch 106\n",
      "    >> Loss: 4.1331073783660044e-05\n",
      "Finished epoch 107\n",
      "    >> Loss: 4.365117528434412e-05\n",
      "Finished epoch 108\n",
      "    >> Loss: 4.148339268059442e-05\n",
      "Finished epoch 109\n",
      "    >> Loss: 5.114448748437358e-05\n",
      "Finished epoch 110\n",
      "    >> Loss: 6.161463100280769e-05\n",
      "    >> Validation loss: 0.0005803393328429352\n",
      "Finished epoch 111\n",
      "    >> Loss: 4.305956986376226e-05\n",
      "Finished epoch 112\n",
      "    >> Loss: 3.6023967513678004e-05\n",
      "Finished epoch 113\n",
      "    >> Loss: 3.058821817829738e-05\n",
      "Finished epoch 114\n",
      "    >> Loss: 2.6684477105845056e-05\n",
      "Finished epoch 115\n",
      "    >> Loss: 2.8448353030088614e-05\n",
      "Finished epoch 116\n",
      "    >> Loss: 2.7593353056133155e-05\n",
      "Finished epoch 117\n",
      "    >> Loss: 2.8383313231934926e-05\n",
      "Finished epoch 118\n",
      "    >> Loss: 2.8356280315697924e-05\n",
      "Finished epoch 119\n",
      "    >> Loss: 2.8289466490179282e-05\n",
      "Finished epoch 120\n",
      "    >> Loss: 2.736140134658505e-05\n",
      "    >> Validation loss: 0.00046484238530538805\n",
      "Finished epoch 121\n",
      "    >> Loss: 3.0551800140350664e-05\n",
      "Finished epoch 122\n",
      "    >> Loss: 3.0183932379494757e-05\n",
      "Finished epoch 123\n",
      "    >> Loss: 3.1873807454257616e-05\n",
      "Finished epoch 124\n",
      "    >> Loss: 3.361043522563457e-05\n",
      "Finished epoch 125\n",
      "    >> Loss: 3.485294568430853e-05\n",
      "Finished epoch 126\n",
      "    >> Loss: 3.598089133375955e-05\n",
      "Finished epoch 127\n",
      "    >> Loss: 3.775448120225527e-05\n",
      "Finished epoch 128\n",
      "    >> Loss: 3.536868331430534e-05\n",
      "Finished epoch 129\n",
      "    >> Loss: 3.21941400877056e-05\n",
      "Finished epoch 130\n",
      "    >> Loss: 2.9253729452459725e-05\n",
      "    >> Validation loss: 0.0005259211426979537\n",
      "Finished epoch 131\n",
      "    >> Loss: 3.0269306077374635e-05\n",
      "Finished epoch 132\n",
      "    >> Loss: 3.0854746437858944e-05\n",
      "Finished epoch 133\n",
      "    >> Loss: 2.5617075281382113e-05\n",
      "Finished epoch 134\n",
      "    >> Loss: 3.0580435395450456e-05\n",
      "Finished epoch 135\n",
      "    >> Loss: 2.5142262067905894e-05\n",
      "Finished epoch 136\n",
      "    >> Loss: 2.8062112047991548e-05\n",
      "Finished epoch 137\n",
      "    >> Loss: 2.4778844788160943e-05\n",
      "Finished epoch 138\n",
      "    >> Loss: 2.688482627727457e-05\n",
      "Finished epoch 139\n",
      "    >> Loss: 2.683877018902877e-05\n",
      "Finished epoch 140\n",
      "    >> Loss: 2.5696624063015358e-05\n",
      "    >> Validation loss: 0.0004873120912111182\n",
      "Finished epoch 141\n",
      "    >> Loss: 2.7385254317533256e-05\n",
      "Finished epoch 142\n",
      "    >> Loss: 2.810171774182601e-05\n",
      "Finished epoch 143\n",
      "    >> Loss: 2.784019081275844e-05\n",
      "Finished epoch 144\n",
      "    >> Loss: 2.826467186820152e-05\n",
      "Finished epoch 145\n",
      "    >> Loss: 3.0537523726918756e-05\n",
      "Finished epoch 146\n",
      "    >> Loss: 3.296531992015579e-05\n",
      "Finished epoch 147\n",
      "    >> Loss: 3.596706994645148e-05\n",
      "Finished epoch 148\n",
      "    >> Loss: 3.488494568021934e-05\n",
      "Finished epoch 149\n",
      "    >> Loss: 3.919147961188305e-05\n",
      "Finished epoch 150\n",
      "    >> Loss: 3.36761381328485e-05\n",
      "    >> Validation loss: 0.0005837094267381043\n",
      "Finished epoch 151\n",
      "    >> Loss: 3.068611140427768e-05\n",
      "Finished epoch 152\n",
      "    >> Loss: 2.5086703217422932e-05\n",
      "Finished epoch 153\n",
      "    >> Loss: 2.7429109327291145e-05\n",
      "Finished epoch 154\n",
      "    >> Loss: 2.6022459521815408e-05\n",
      "Finished epoch 155\n",
      "    >> Loss: 2.4995268805071152e-05\n",
      "Finished epoch 156\n",
      "    >> Loss: 2.5544563358960936e-05\n",
      "Finished epoch 157\n",
      "    >> Loss: 2.2942776255794054e-05\n",
      "Finished epoch 158\n",
      "    >> Loss: 2.56917516274293e-05\n",
      "Finished epoch 159\n",
      "    >> Loss: 2.1825970627362883e-05\n",
      "Finished epoch 160\n",
      "    >> Loss: 2.695754944875616e-05\n",
      "    >> Validation loss: 0.0005265679444460053\n",
      "Finished epoch 161\n",
      "    >> Loss: 2.0500722064934283e-05\n",
      "Finished epoch 162\n",
      "    >> Loss: 2.711858377234389e-05\n",
      "Finished epoch 163\n",
      "    >> Loss: 2.0195758966670424e-05\n",
      "Finished epoch 164\n",
      "    >> Loss: 2.537424539058819e-05\n",
      "Finished epoch 165\n",
      "    >> Loss: 2.2417158255738628e-05\n",
      "Finished epoch 166\n",
      "    >> Loss: 2.5024916854844267e-05\n",
      "Finished epoch 167\n",
      "    >> Loss: 2.1304733050249304e-05\n",
      "Finished epoch 168\n",
      "    >> Loss: 2.6430056816623776e-05\n",
      "Finished epoch 169\n",
      "    >> Loss: 2.2157945763197888e-05\n",
      "Finished epoch 170\n",
      "    >> Loss: 2.5331530492194456e-05\n",
      "    >> Validation loss: 0.0005118526632617688\n",
      "Finished epoch 171\n",
      "    >> Loss: 2.3661177364137963e-05\n",
      "Finished epoch 172\n",
      "    >> Loss: 2.4813881389801487e-05\n",
      "Finished epoch 173\n",
      "    >> Loss: 2.4972384807965648e-05\n",
      "Finished epoch 174\n",
      "    >> Loss: 2.694872113403678e-05\n",
      "Finished epoch 175\n",
      "    >> Loss: 2.557931558561148e-05\n",
      "Finished epoch 176\n",
      "    >> Loss: 2.7132672001860147e-05\n",
      "Finished epoch 177\n",
      "    >> Loss: 2.7292739116087475e-05\n",
      "Finished epoch 178\n",
      "    >> Loss: 2.9698102406665958e-05\n",
      "Finished epoch 179\n",
      "    >> Loss: 3.0178078302226477e-05\n",
      "Finished epoch 180\n",
      "    >> Loss: 3.0785643543214626e-05\n",
      "    >> Validation loss: 0.0005152620809568814\n",
      "Finished epoch 181\n",
      "    >> Loss: 3.340017650459166e-05\n",
      "Finished epoch 182\n",
      "    >> Loss: 3.360973545603136e-05\n",
      "Finished epoch 183\n",
      "    >> Loss: 3.113896239395446e-05\n",
      "Finished epoch 184\n",
      "    >> Loss: 2.8221622500794404e-05\n",
      "Finished epoch 185\n",
      "    >> Loss: 2.692859344883145e-05\n",
      "Finished epoch 186\n",
      "    >> Loss: 2.1614308856048426e-05\n",
      "Finished epoch 187\n",
      "    >> Loss: 2.3999790183768795e-05\n",
      "Finished epoch 188\n",
      "    >> Loss: 2.339041090819145e-05\n",
      "Finished epoch 189\n",
      "    >> Loss: 2.4150102387665584e-05\n",
      "Finished epoch 190\n",
      "    >> Loss: 2.3581757220284942e-05\n",
      "    >> Validation loss: 0.00043784305952778357\n",
      "Finished epoch 191\n",
      "    >> Loss: 2.4627759147085777e-05\n",
      "Finished epoch 192\n",
      "    >> Loss: 2.288535376338098e-05\n",
      "Finished epoch 193\n",
      "    >> Loss: 2.687028978107768e-05\n",
      "Finished epoch 194\n",
      "    >> Loss: 2.0650811064332683e-05\n",
      "Finished epoch 195\n",
      "    >> Loss: 2.3204124983525218e-05\n",
      "Finished epoch 196\n",
      "    >> Loss: 2.4040660912031425e-05\n",
      "Finished epoch 197\n",
      "    >> Loss: 2.42898768783242e-05\n",
      "Finished epoch 198\n",
      "    >> Loss: 2.4075700259712367e-05\n",
      "Finished epoch 199\n",
      "    >> Loss: 2.3529085002915793e-05\n",
      "Finished epoch 200\n",
      "    >> Loss: 2.6567201074653457e-05\n",
      "    >> Validation loss: 0.0004366674207117699\n",
      "Finished epoch 201\n",
      "    >> Loss: 2.504448994770557e-05\n",
      "Finished epoch 202\n",
      "    >> Loss: 2.7250163529392364e-05\n",
      "Finished epoch 203\n",
      "    >> Loss: 2.526865375246551e-05\n",
      "Finished epoch 204\n",
      "    >> Loss: 2.9689114388048946e-05\n",
      "Finished epoch 205\n",
      "    >> Loss: 2.6345870043052282e-05\n",
      "Finished epoch 206\n",
      "    >> Loss: 3.086792685379665e-05\n",
      "Finished epoch 207\n",
      "    >> Loss: 3.0390847246808503e-05\n",
      "Finished epoch 208\n",
      "    >> Loss: 3.249635027166211e-05\n",
      "Finished epoch 209\n",
      "    >> Loss: 2.9799526396355392e-05\n",
      "Finished epoch 210\n",
      "    >> Loss: 3.524920569948033e-05\n",
      "    >> Validation loss: 0.0004815367247314917\n",
      "Finished epoch 211\n",
      "    >> Loss: 3.526429068627673e-05\n",
      "Finished epoch 212\n",
      "    >> Loss: 3.26721867359855e-05\n",
      "Finished epoch 213\n",
      "    >> Loss: 3.72155995077562e-05\n",
      "Finished epoch 214\n",
      "    >> Loss: 3.7601775003811365e-05\n",
      "Finished epoch 215\n",
      "    >> Loss: 3.536061364732574e-05\n",
      "Finished epoch 216\n",
      "    >> Loss: 3.728594030283757e-05\n",
      "Finished epoch 217\n",
      "    >> Loss: 3.664804332173631e-05\n",
      "Finished epoch 218\n",
      "    >> Loss: 3.442236967984653e-05\n",
      "Finished epoch 219\n",
      "    >> Loss: 3.7165123140524315e-05\n",
      "Finished epoch 220\n",
      "    >> Loss: 3.486826822910643e-05\n",
      "    >> Validation loss: 0.00043962111782793525\n",
      "Finished epoch 221\n",
      "    >> Loss: 3.355381831147466e-05\n",
      "Finished epoch 222\n",
      "    >> Loss: 2.83218110894521e-05\n",
      "Finished epoch 223\n",
      "    >> Loss: 2.6155223176347434e-05\n",
      "Finished epoch 224\n",
      "    >> Loss: 2.4639184461384717e-05\n",
      "Finished epoch 225\n",
      "    >> Loss: 2.4894777766949094e-05\n",
      "Finished epoch 226\n",
      "    >> Loss: 2.3986158803254547e-05\n",
      "Finished epoch 227\n",
      "    >> Loss: 2.5569698763578885e-05\n",
      "Finished epoch 228\n",
      "    >> Loss: 2.0298459664178168e-05\n",
      "Finished epoch 229\n",
      "    >> Loss: 2.7870301695022547e-05\n",
      "Finished epoch 230\n",
      "    >> Loss: 2.170446878357615e-05\n",
      "    >> Validation loss: 0.0003047942599879647\n",
      "Finished epoch 231\n",
      "    >> Loss: 2.5256317562307102e-05\n",
      "Finished epoch 232\n",
      "    >> Loss: 2.6271900700431275e-05\n",
      "Finished epoch 233\n",
      "    >> Loss: 2.4812753151667306e-05\n",
      "Finished epoch 234\n",
      "    >> Loss: 2.3552857156477355e-05\n",
      "Finished epoch 235\n",
      "    >> Loss: 2.5893670543877518e-05\n",
      "Finished epoch 236\n",
      "    >> Loss: 2.6311629293760364e-05\n",
      "Finished epoch 237\n",
      "    >> Loss: 2.8102564597651976e-05\n",
      "Finished epoch 238\n",
      "    >> Loss: 2.4653188418921618e-05\n",
      "Finished epoch 239\n",
      "    >> Loss: 2.846789171137956e-05\n",
      "Finished epoch 240\n",
      "    >> Loss: 2.6991886078483542e-05\n",
      "    >> Validation loss: 0.0003605130486104745\n",
      "Finished epoch 241\n",
      "    >> Loss: 2.7916012297418738e-05\n",
      "Finished epoch 242\n",
      "    >> Loss: 2.579460792658972e-05\n",
      "Finished epoch 243\n",
      "    >> Loss: 3.154872003931976e-05\n",
      "Finished epoch 244\n",
      "    >> Loss: 2.6697343239380076e-05\n",
      "Finished epoch 245\n",
      "    >> Loss: 3.038833404658613e-05\n",
      "Finished epoch 246\n",
      "    >> Loss: 2.9512362167765597e-05\n",
      "Finished epoch 247\n",
      "    >> Loss: 3.288669258873044e-05\n",
      "Finished epoch 248\n",
      "    >> Loss: 3.17118742370764e-05\n",
      "Finished epoch 249\n",
      "    >> Loss: 3.490548575891168e-05\n",
      "Finished epoch 250\n",
      "    >> Loss: 3.304766233568743e-05\n",
      "    >> Validation loss: 0.000362722565237033\n",
      "Finished epoch 251\n",
      "    >> Loss: 3.424599672146742e-05\n",
      "Finished epoch 252\n",
      "    >> Loss: 3.554783008313929e-05\n",
      "Finished epoch 253\n",
      "    >> Loss: 3.5980291209747896e-05\n",
      "Finished epoch 254\n",
      "    >> Loss: 4.214634082577804e-05\n",
      "Finished epoch 255\n",
      "    >> Loss: 3.595522354876344e-05\n",
      "Finished epoch 256\n",
      "    >> Loss: 4.3095892110582164e-05\n",
      "Finished epoch 257\n",
      "    >> Loss: 4.0533883113736645e-05\n",
      "Finished epoch 258\n",
      "    >> Loss: 4.246898448900811e-05\n",
      "Finished epoch 259\n",
      "    >> Loss: 3.9908852735427746e-05\n",
      "Finished epoch 260\n",
      "    >> Loss: 3.992856760922912e-05\n",
      "    >> Validation loss: 0.00041110785650393464\n",
      "Finished epoch 261\n",
      "    >> Loss: 4.1330338149342666e-05\n",
      "Finished epoch 262\n",
      "    >> Loss: 4.365693830722219e-05\n",
      "Finished epoch 263\n",
      "    >> Loss: 4.003313900109222e-05\n",
      "Finished epoch 264\n",
      "    >> Loss: 4.2067976987999584e-05\n",
      "Finished epoch 265\n",
      "    >> Loss: 3.8831140745174977e-05\n",
      "Finished epoch 266\n",
      "    >> Loss: 3.80375680311024e-05\n",
      "Finished epoch 267\n",
      "    >> Loss: 3.924724352898412e-05\n",
      "Finished epoch 268\n",
      "    >> Loss: 3.6686369723248186e-05\n",
      "Finished epoch 269\n",
      "    >> Loss: 3.586200257838089e-05\n",
      "Finished epoch 270\n",
      "    >> Loss: 3.281667482606467e-05\n",
      "    >> Validation loss: 0.0003816019029767181\n",
      "Finished epoch 271\n",
      "    >> Loss: 2.9857902098486262e-05\n",
      "Finished epoch 272\n",
      "    >> Loss: 2.755825365612992e-05\n",
      "Finished epoch 273\n",
      "    >> Loss: 2.8261498831775998e-05\n",
      "Finished epoch 274\n",
      "    >> Loss: 2.5179096492492355e-05\n",
      "Finished epoch 275\n",
      "    >> Loss: 2.7945289840056403e-05\n",
      "Finished epoch 276\n",
      "    >> Loss: 2.648870633277142e-05\n",
      "Finished epoch 277\n",
      "    >> Loss: 2.881867393979942e-05\n",
      "Finished epoch 278\n",
      "    >> Loss: 2.8328771557032474e-05\n",
      "Finished epoch 279\n",
      "    >> Loss: 2.9319897006510883e-05\n",
      "Finished epoch 280\n",
      "    >> Loss: 2.6812669611986255e-05\n",
      "    >> Validation loss: 0.00034950997892178144\n",
      "Finished epoch 281\n",
      "    >> Loss: 3.090311969166479e-05\n",
      "Finished epoch 282\n",
      "    >> Loss: 2.7463072655279103e-05\n",
      "Finished epoch 283\n",
      "    >> Loss: 3.0762219710768846e-05\n",
      "Finished epoch 284\n",
      "    >> Loss: 3.09934548835065e-05\n",
      "Finished epoch 285\n",
      "    >> Loss: 3.131977206278907e-05\n",
      "Finished epoch 286\n",
      "    >> Loss: 3.141441234910105e-05\n",
      "Finished epoch 287\n",
      "    >> Loss: 2.5213160141568172e-05\n",
      "Finished epoch 288\n",
      "    >> Loss: 3.133507214894345e-05\n",
      "Finished epoch 289\n",
      "    >> Loss: 3.328187097747789e-05\n",
      "Finished epoch 290\n",
      "    >> Loss: 2.7959278816417265e-05\n",
      "    >> Validation loss: 0.0003256624640902576\n",
      "Finished epoch 291\n",
      "    >> Loss: 2.8386048228096422e-05\n",
      "Finished epoch 292\n",
      "    >> Loss: 3.084556634542006e-05\n",
      "Finished epoch 293\n",
      "    >> Loss: 2.742881800318839e-05\n",
      "Finished epoch 294\n",
      "    >> Loss: 3.118946943205844e-05\n",
      "Finished epoch 295\n",
      "    >> Loss: 2.9932220417664922e-05\n",
      "Finished epoch 296\n",
      "    >> Loss: 2.6925425807764445e-05\n",
      "Finished epoch 297\n",
      "    >> Loss: 2.7424814783111586e-05\n",
      "Finished epoch 298\n",
      "    >> Loss: 2.9258942467994387e-05\n",
      "Finished epoch 299\n",
      "    >> Loss: 2.4149221132849352e-05\n"
     ]
    }
   ],
   "source": [
    "epochs, epochs_small, loss_list, val_loss_list, stats_sum_yk, stats_A_elements = main_training_loop(X_train, X_val, Y_train, Y_val, loss_fn, optimizer, n_epochs, model, log_transform, False)"
   ]
  },
  {
   "cell_type": "markdown",
   "metadata": {},
   "source": [
    "We can define a function to analyze the training. We plot:\n",
    "\n",
    "+ The training and validation losses\n",
    "\n",
    "+ The evolution of $\\sum_{k=1}^{N_S} Y_k$ (mean, min and max).\n",
    "\n",
    "+ The elements conservation by plotting $100\\times\\delta Y_e$ for each element (C, H, O and N). The factor $100$ enables to get an error in \\%."
   ]
  },
  {
   "cell_type": "code",
   "execution_count": 366,
   "metadata": {},
   "outputs": [],
   "source": [
    "def plot_losses_conservation(epochs, epochs_small, loss_list, val_loss_list, stats_sum_yk, stats_A_elements):\n",
    "\n",
    "    # LOSSES\n",
    "    fig, ax = plt.subplots()\n",
    "\n",
    "    ax.plot(epochs, loss_list, color=\"k\", label=\"Training\")\n",
    "    ax.plot(epochs_small, val_loss_list, color=\"r\", label = \"Validation\")\n",
    "\n",
    "    ax.set_yscale('log')\n",
    "\n",
    "    ax.legend()\n",
    "\n",
    "    ax.set_xlabel(\"Epoch\")\n",
    "    ax.set_ylabel(\"Loss\")\n",
    "\n",
    "    # MASS CONSERVATION\n",
    "    fig, ax = plt.subplots()\n",
    "\n",
    "    ax.plot(epochs_small, stats_sum_yk[:,0], color=\"k\")\n",
    "    ax.plot(epochs_small, stats_sum_yk[:,1], color=\"k\", ls=\"--\")\n",
    "    ax.plot(epochs_small, stats_sum_yk[:,2], color=\"k\", ls=\"--\")\n",
    "\n",
    "    ax.set_xlabel(\"Epoch\")\n",
    "    ax.set_ylabel(r\"$\\sum_k \\ Y_k$\")\n",
    "\n",
    "    # ELEMENTS CONSERVATION\n",
    "    fig, ((ax1, ax2), (ax3, ax4)) = plt.subplots(2,2)\n",
    "\n",
    "    # C\n",
    "    ax1.plot(epochs_small, 100*stats_A_elements[:,0,0], color=\"k\")\n",
    "    ax1.plot(epochs_small, 100*stats_A_elements[:,0,1], color=\"k\", ls=\"--\")\n",
    "    ax1.plot(epochs_small, 100*stats_A_elements[:,0,2], color=\"k\", ls=\"--\")\n",
    "\n",
    "    ax1.set_xlabel(\"Epoch\")\n",
    "    ax1.set_ylabel(r\"$\\Delta Y_C$ $(\\%$)\")\n",
    "\n",
    "    # H\n",
    "    ax2.plot(epochs_small, 100*stats_A_elements[:,1,0], color=\"k\")\n",
    "    ax2.plot(epochs_small, 100*stats_A_elements[:,1,1], color=\"k\", ls=\"--\")\n",
    "    ax2.plot(epochs_small, 100*stats_A_elements[:,1,2], color=\"k\", ls=\"--\")\n",
    "\n",
    "    ax2.set_xlabel(\"Epoch\")\n",
    "    ax2.set_ylabel(r\"$\\Delta Y_H$ $(\\%)$\")\n",
    "\n",
    "    # O\n",
    "    ax3.plot(epochs_small, 100*stats_A_elements[:,2,0], color=\"k\")\n",
    "    ax3.plot(epochs_small, 100*stats_A_elements[:,2,1], color=\"k\", ls=\"--\")\n",
    "    ax3.plot(epochs_small, 100*stats_A_elements[:,2,2], color=\"k\", ls=\"--\")\n",
    "\n",
    "    ax3.set_xlabel(\"Epoch\")\n",
    "    ax3.set_ylabel(r\"$\\Delta Y_O$ $(\\%)$\")\n",
    "\n",
    "    # N\n",
    "    ax4.plot(epochs_small, 100*stats_A_elements[:,3,0], color=\"k\")\n",
    "    ax4.plot(epochs_small, 100*stats_A_elements[:,3,1], color=\"k\", ls=\"--\")\n",
    "    ax4.plot(epochs_small, 100*stats_A_elements[:,3,2], color=\"k\", ls=\"--\")\n",
    "\n",
    "    ax4.set_xlabel(\"Epoch\")\n",
    "    ax4.set_ylabel(r\"$\\Delta Y_N$ $(\\%)$\")\n",
    "\n",
    "    fig.tight_layout()"
   ]
  },
  {
   "cell_type": "code",
   "execution_count": 367,
   "metadata": {},
   "outputs": [
    {
     "data": {
      "image/png": "[encoded data removed]",
      "text/plain": [
       "<Figure size 640x480 with 1 Axes>"
      ]
     },
     "metadata": {},
     "output_type": "display_data"
    },
    {
     "data": {
      "image/png": "[encoded data removed]",
      "text/plain": [
       "<Figure size 640x480 with 1 Axes>"
      ]
     },
     "metadata": {},
     "output_type": "display_data"
    },
    {
     "data": {
      "image/png": "[encoded data removed]",
      "text/plain": [
       "<Figure size 640x480 with 4 Axes>"
      ]
     },
     "metadata": {},
     "output_type": "display_data"
    }
   ],
   "source": [
    "plot_losses_conservation(epochs, epochs_small, loss_list, val_loss_list, stats_sum_yk, stats_A_elements)"
   ]
  },
  {
   "cell_type": "markdown",
   "metadata": {},
   "source": [
    "We save the Pytorch model in the case folder for later use:"
   ]
  },
  {
   "cell_type": "code",
   "execution_count": 368,
   "metadata": {},
   "outputs": [],
   "source": [
    "torch.save(model.state_dict(), os.path.join(folder,\"pytorch_mlp.pt\"))"
   ]
  },
  {
   "cell_type": "markdown",
   "metadata": {},
   "source": [
    "## ANN model test\n",
    "\n",
    "Now that we have generated the model we would like to test it on unseen data. For this, we will use the test initial conditions which were stored during data generation. The methodology is as follows:\n",
    "\n",
    "1. We get the test conditions and simulate CANTERA flames with (i) the CVODE solver and (ii) the generated ANN.\n",
    "2. We define appropriate metric and assess the accuracy of the ANN."
   ]
  },
  {
   "cell_type": "markdown",
   "metadata": {},
   "source": [
    "### Computing simulations with CANTERA and NN"
   ]
  },
  {
   "cell_type": "markdown",
   "metadata": {},
   "source": [
    "We first load the test initial conditions:"
   ]
  },
  {
   "cell_type": "code",
   "execution_count": 369,
   "metadata": {},
   "outputs": [
    {
     "name": "stdout",
     "output_type": "stream",
     "text": [
      "There are 64 test simulations\n"
     ]
    }
   ],
   "source": [
    "df_sim_test = pd.read_csv(os.path.join(folder, \"sim_test.csv\"))\n",
    "\n",
    "n_sim = df_sim_test.shape[0]\n",
    "print(f\"There are {n_sim} test simulations\")"
   ]
  },
  {
   "cell_type": "markdown",
   "metadata": {},
   "source": [
    "We now want to compute 0D reactors for each conditions in *df_sim_test*. We use here the function *compute_nn_cantera_0D_homo* which is given. It takes as input initial conditions $T_0, \\phi$, the ANN model (with associated scalers), the time step (used for the ANN) and the database parameters. It outputs two dataframes containing the exact simulation and the ANN simulation. These results are concatenated in a list."
   ]
  },
  {
   "cell_type": "code",
   "execution_count": 372,
   "metadata": {},
   "outputs": [
    {
     "name": "stdout",
     "output_type": "stream",
     "text": [
      "Performing test computation for phi=0.9649956307053712; T0=2138.9999746290405\n",
      "Performing test computation for phi=0.9123913707200598; T0=2104.8242277533845\n",
      "Performing test computation for phi=0.8016741785198769; T0=2199.7598044039\n",
      "Performing test computation for phi=0.8781465862115102; T0=2174.130704859545\n",
      "Performing test computation for phi=0.8347614315702426; T0=2155.4677342724854\n",
      "Performing test computation for phi=0.9020456831785444; T0=2164.7392920169123\n",
      "Performing test computation for phi=0.9453146058370938; T0=2189.981947068785\n",
      "Performing test computation for phi=0.8853030732536692; T0=2194.4150390009486\n",
      "Performing test computation for phi=0.8086176607093873; T0=2183.887143896546\n",
      "Performing test computation for phi=0.9409040388399702; T0=2143.2699658231427\n",
      "Performing test computation for phi=0.8481990503811442; T0=2128.486025435516\n",
      "Performing test computation for phi=0.943302580820092; T0=2149.207776503536\n",
      "Performing test computation for phi=0.9721708133458212; T0=2178.13756484566\n",
      "Performing test computation for phi=0.8885376808124148; T0=2140.926749178911\n",
      "Performing test computation for phi=0.909477459509748; T0=2187.195690747897\n",
      "Performing test computation for phi=0.9873330723494468; T0=2131.869537266696\n",
      "Performing test computation for phi=0.9715583062523222; T0=2136.040997396016\n",
      "Performing test computation for phi=0.9412455225193864; T0=2168.5881168826536\n",
      "Performing test computation for phi=0.9132907813012964; T0=2187.8929732586744\n",
      "Performing test computation for phi=0.902615397737124; T0=2180.8149503265754\n",
      "Performing test computation for phi=0.8774909476886619; T0=2191.539191303565\n",
      "Performing test computation for phi=0.8646714902941485; T0=2148.7906134102404\n",
      "Performing test computation for phi=0.8288208100979138; T0=2162.268638342284\n",
      "Performing test computation for phi=0.9230982872857112; T0=2188.510368310314\n",
      "Performing test computation for phi=0.8096589919125836; T0=2101.7499011773825\n",
      "Performing test computation for phi=0.8412767572451311; T0=2198.3338573748624\n",
      "Performing test computation for phi=0.9279235153646872; T0=2184.71791475056\n",
      "Performing test computation for phi=0.8430461862909165; T0=2181.5905268097026\n",
      "Performing test computation for phi=0.8177662414197701; T0=2135.4618983540195\n",
      "Performing test computation for phi=0.947735046292195; T0=2131.248204459158\n",
      "Performing test computation for phi=0.8261888493649361; T0=2103.0941913832166\n",
      "Performing test computation for phi=0.903453810861676; T0=2108.38943479592\n",
      "Performing test computation for phi=0.9072557030460674; T0=2105.7757276048133\n",
      "Performing test computation for phi=0.8939877362363836; T0=2175.0214926745657\n",
      "Performing test computation for phi=0.8363432644077843; T0=2114.258309757375\n",
      "Performing test computation for phi=0.9399193978178252; T0=2145.6791455704024\n",
      "Performing test computation for phi=0.9492135013495292; T0=2189.737958424113\n",
      "Performing test computation for phi=0.8841189478323737; T0=2189.12290875617\n",
      "Performing test computation for phi=0.9635077803819724; T0=2133.832688866245\n",
      "Performing test computation for phi=0.9937247133195996; T0=2174.4941940341214\n",
      "Performing test computation for phi=0.8491627833744012; T0=2119.86225954477\n",
      "Performing test computation for phi=0.8121285609202247; T0=2122.779591215234\n",
      "Performing test computation for phi=0.8002578434527327; T0=2138.23019587921\n",
      "Performing test computation for phi=0.9212520691181326; T0=2182.0103095689974\n",
      "Performing test computation for phi=0.8264326995183847; T0=2100.3394518105283\n",
      "Performing test computation for phi=0.9391472956203348; T0=2164.980568788018\n",
      "Performing test computation for phi=0.8570772392167769; T0=2156.766076352265\n",
      "Performing test computation for phi=0.9310110530134712; T0=2182.377395681201\n",
      "Performing test computation for phi=0.8652685607477039; T0=2179.2365432837723\n",
      "Performing test computation for phi=0.8076503848877646; T0=2128.804704622787\n",
      "Performing test computation for phi=0.94018595211419; T0=2112.782469535888\n",
      "Performing test computation for phi=0.8883593732886026; T0=2198.4403431822334\n",
      "Performing test computation for phi=0.855304384886211; T0=2100.6757855789774\n",
      "Performing test computation for phi=0.8738285087465744; T0=2133.0243679430605\n",
      "Performing test computation for phi=0.9039399911276094; T0=2175.2018657523618\n",
      "Performing test computation for phi=0.9374062894358232; T0=2107.232346483801\n",
      "Performing test computation for phi=0.8441326041103508; T0=2141.7587274212806\n",
      "Performing test computation for phi=0.946192887116709; T0=2118.070173212752\n",
      "Performing test computation for phi=0.9668627923110512; T0=2156.886432083769\n",
      "Performing test computation for phi=0.8690483217113864; T0=2121.064250548985\n",
      "Performing test computation for phi=0.8269250892321414; T0=2131.133108016264\n",
      "Performing test computation for phi=0.8332513534873323; T0=2109.573772441362\n",
      "Performing test computation for phi=0.9051516913578098; T0=2136.572175297713\n",
      "Performing test computation for phi=0.9760607975726366; T0=2116.9945404334417\n",
      "Total number of simulation which crashed: 0\n"
     ]
    }
   ],
   "source": [
    "list_test_results = []\n",
    "\n",
    "fails = 0\n",
    "for i, row in df_sim_test.iterrows():\n",
    "\n",
    "    phi_ini = row['Phi']\n",
    "    temperature_ini = row['T0']\n",
    "\n",
    "    print(f\"Performing test computation for phi={phi_ini}; T0={temperature_ini}\")\n",
    "\n",
    "    df_exact, df_nn, fail = compute_nn_cantera_0D_homo(device, model, Xscaler, Yscaler, phi_ini, temperature_ini, dt, dtb_params)\n",
    "\n",
    "    fails += fail\n",
    "\n",
    "    list_test_results.append((df_exact, df_nn))\n",
    "\n",
    "\n",
    "print(f\"Total number of simulations which crashed: {fails}\")"
   ]
  },
  {
   "cell_type": "markdown",
   "metadata": {},
   "source": [
    "Here are what dataframes look like for a given simulation:"
   ]
  },
  {
   "cell_type": "code",
   "execution_count": null,
   "metadata": {},
   "outputs": [],
   "source": [
    "i_sim = 1\n",
    "list_test_results[i_sim][0].head()   # Exact"
   ]
  },
  {
   "cell_type": "code",
   "execution_count": null,
   "metadata": {},
   "outputs": [],
   "source": [
    "list_test_results[i_sim][1].head()   # ANN"
   ]
  },
  {
   "cell_type": "markdown",
   "metadata": {},
   "source": [
    "We can visualize the results for a given simulation *i_sim*. We can look at temperature and species mass fractions for instance. We can also analyze conservation metrics. If we learned in logarithmic space, it is interesting also to plot in log."
   ]
  },
  {
   "cell_type": "code",
   "execution_count": null,
   "metadata": {},
   "outputs": [],
   "source": [
    "def plot_results_sim(i_sim, list_test_results, spec_to_plot):\n",
    "\n",
    "    df_exact = list_test_results[i_sim][0]\n",
    "    df_nn = list_test_results[i_sim][1]\n",
    "\n",
    "    # Temperature \n",
    "    fig, ax = plt.subplots()\n",
    "\n",
    "    ax.plot(df_exact['Time'], df_exact['Temperature'], color='k')\n",
    "    ax.plot(df_nn['Time'], df_nn['Temperature'], color='b')\n",
    "    ax.set_xlabel(\"Time [s]\")\n",
    "    ax.set_ylabel(\"T [K]\")\n",
    "\n",
    "    # Species (normal)\n",
    "    fig, ax = plt.subplots()\n",
    "\n",
    "    ax.plot(df_exact['Time'], df_exact[spec_to_plot], color='k')\n",
    "    ax.plot(df_nn['Time'], df_nn[spec_to_plot], color='b')\n",
    "    ax.set_xlabel(\"Time [s]\")\n",
    "    ax.set_ylabel(f\"{spec_to_plot} [-]\")\n",
    "\n",
    "    # Species (log)\n",
    "    fig, ax = plt.subplots()\n",
    "\n",
    "    ax.plot(df_exact['Time'], np.log(df_exact[spec_to_plot]), color='k')\n",
    "    ax.plot(df_nn['Time'], np.log(df_nn[spec_to_plot]), color='b')\n",
    "    ax.set_xlabel(\"Time [s]\")\n",
    "    ax.set_ylabel(f\"{spec_to_plot} [-]\")\n",
    "\n",
    "    # Sum of Yk\n",
    "    fig, ax = plt.subplots()\n",
    "    ax.plot(df_nn['Time'], df_nn['SumYk'], color='b')\n",
    "    ax.set_xlabel(\"Time [s]\")\n",
    "    ax.set_ylabel(\"$\\sum Y_k$ [-]\")\n",
    "\n",
    "    # Elements\n",
    "    fig, ((ax1, ax2), (ax3, ax4)) = plt.subplots(2,2)\n",
    "    ax1.plot(df_nn['Time'], df_nn['Y_C'], color='b')\n",
    "    ax2.plot(df_nn['Time'], df_nn['Y_H'], color='b')\n",
    "    ax3.plot(df_nn['Time'], df_nn['Y_O'], color='b')\n",
    "    ax4.plot(df_nn['Time'], df_nn['Y_N'], color='b')\n",
    "    ax1.set_ylabel(\"$Y_C$\")\n",
    "    ax2.set_ylabel(\"$Y_H$\")\n",
    "    ax3.set_ylabel(\"$Y_O$\")\n",
    "    ax4.set_ylabel(\"$Y_N$\")\n",
    "    ax3.set_xlabel(\"Time [s]\")\n",
    "    ax4.set_xlabel(\"Time [s]\")\n",
    "    fig.tight_layout()"
   ]
  },
  {
   "cell_type": "code",
   "execution_count": null,
   "metadata": {},
   "outputs": [],
   "source": [
    "i_sim = 40\n",
    "spec_to_plot = \"H2O2\"\n",
    "plot_results_sim(i_sim, list_test_results, spec_to_plot)"
   ]
  },
  {
   "cell_type": "markdown",
   "metadata": {},
   "source": [
    "For the ANN run can also check the conservation of mass and elements:"
   ]
  },
  {
   "cell_type": "markdown",
   "metadata": {},
   "source": [
    "### Analyzing error statistics\n",
    "\n",
    "We need a metric to assess the accuracy of the ANN over the entire test simulations. To do that, we will define normalized fitness functions for each simulation, and average the values over the simulation. As previously, we note $Y_k^n$ the processed mass fractions (including potential log and scaling) from the ANN, and $Y_k^{n,*}$ the exact values. The error on species mass fractions is then for given initial conditions:\n",
    "\n",
    "$$\n",
    "\\mathcal{M}_k(T_0,\\phi) = \\frac{1}{N_{iter}} \\sum_{i=1}^{N_{iter}} \\left| \\frac{Y_k^n - Y_k^{n,*}}{Y_k^{n,*}} \\right|\n",
    "$$\n",
    "\n",
    "where $N_{iter}$ is the number of iterations of the considered simulation (it may vary from one simulation to another as it is controlled by a stopping criterion).\n",
    "\n",
    "Although it is not a direct output of the model, we can still compute error on the temperature. We write $T^n$ and $T^{n,*}$ the normalized predicted and exact temperatures, respestively (note that log is never applied on temeprature). The error is:\n",
    "\n",
    "$$\n",
    "\\mathcal{M}_T(T_0,\\phi) = \\frac{1}{N_{iter}} \\sum_{i=1}^{N_{iter}} \\left| \\frac{T^n - T^{n,*}}{T^{n,*}} \\right|\n",
    "$$\n",
    "\n",
    "Finally, we can define a global error for each simulation as the mean of all errors (they can be compared as everything is normalized):\n",
    "\n",
    "$$\n",
    "\\mathcal{M}(T_0,\\phi) = \\frac{\\mathcal{M}_T(T_0,\\phi) + \\sum_{k=1}^{N_S} \\mathcal{M}_k(T_0,\\phi)}{N_S+1}\n",
    "$$\n",
    "\n",
    "*Exercice 2:* we define a function *compute_fitness* to calculate these errors. Complete the calculation of the errors in this function."
   ]
  },
  {
   "cell_type": "code",
   "execution_count": null,
   "metadata": {},
   "outputs": [],
   "source": [
    "def compute_fitness(df_exact, df_nn):\n",
    "\n",
    "    # Results will be stored in data_errors array.\n",
    "    # The first column corresponds to errors on temperature\n",
    "    # The next n_out columns correspond to errors on species mass fractions\n",
    "    # The last column corresponds to the mean error\n",
    "    data_errors = np.empty([n_sim, n_out+2]) \n",
    "\n",
    "    for i_sim in range(n_sim):\n",
    "\n",
    "        df_exact = list_test_results[i_sim][0]\n",
    "        df_nn = list_test_results[i_sim][1]\n",
    "\n",
    "        # Removing undesired variables\n",
    "        df_exact = df_exact.drop('Time', axis=1)\n",
    "        df_nn = df_nn.drop([\"Time\",\"SumYk\", \"Y_C\", \"Y_H\", \"Y_O\", \"Y_N\"], axis=1)\n",
    "\n",
    "        # Applying log\n",
    "        if log_transform:\n",
    "\n",
    "            df_exact[df_exact < threshold] = threshold\n",
    "            df_nn[df_nn < threshold] = threshold\n",
    "\n",
    "            df_exact.iloc[:, 1:] = np.log(df_exact.iloc[:, 1:])\n",
    "            df_nn.iloc[:, 1:] = np.log(df_nn.iloc[:, 1:])\n",
    "\n",
    "        # Scaling\n",
    "        data_exact_scaled = (df_exact.values-Xscaler.mean.values)/(Xscaler.std.values+1.0e-7)\n",
    "        data_nn_scaled = (df_nn.values-Xscaler.mean.values)/(Xscaler.std.values+1.0e-7)\n",
    "\n",
    "        diff_exact_nn = np.abs((data_nn_scaled-data_exact_scaled)/data_exact_scaled)\n",
    "\n",
    "        diff_exact_nn = diff_exact_nn.mean(axis=0)\n",
    "\n",
    "        M = diff_exact_nn.mean()\n",
    "\n",
    "        print(f\"Simulation {i_sim} error M = {M}\")\n",
    "\n",
    "        data_errors[i_sim, :n_out+1] = diff_exact_nn\n",
    "        data_errors[i_sim, n_out+1] = M\n",
    "\n",
    "\n",
    "    return data_errors\n",
    "    "
   ]
  },
  {
   "cell_type": "code",
   "execution_count": null,
   "metadata": {},
   "outputs": [],
   "source": [
    "data_errors = compute_fitness(df_exact, df_nn)"
   ]
  },
  {
   "cell_type": "markdown",
   "metadata": {},
   "source": [
    "To visualize errors, we can draw a boxplot:"
   ]
  },
  {
   "cell_type": "code",
   "execution_count": null,
   "metadata": {},
   "outputs": [],
   "source": [
    "# Getting gas species for labels\n",
    "gas = ct.Solution(mech_file)\n",
    "\n",
    "\n",
    "fig, ax = plt.subplots()\n",
    "\n",
    "sns.boxplot(data_errors, ax=ax)\n",
    "\n",
    "custom_labels = [\"T\"] + gas.species_names + [\"Total\"]\n",
    "ax.set_xticklabels(custom_labels)\n"
   ]
  },
  {
   "cell_type": "markdown",
   "metadata": {},
   "source": [
    "*Exercice 3*: Find the simulation with the highest error."
   ]
  },
  {
   "cell_type": "code",
   "execution_count": null,
   "metadata": {},
   "outputs": [],
   "source": [
    "i_sim_max = data_errors[:,-1].argmax()\n",
    "print(f\"Simulation with largest error: {i_sim_max}\")\n",
    "print(f\"Error is: {data_errors[:,-1][i_sim_max]} %\")"
   ]
  },
  {
   "cell_type": "markdown",
   "metadata": {},
   "source": [
    "Finally, we can average the errors of all simulations to get a global error which can be used to get an idea of the overall error of the ANN:\n",
    "\n",
    "$$\n",
    "\\mathcal{M}_{avg} = \\frac{1}{N_{test}} \\sum_{i=1}^{N_{test}} \\mathcal{M}(T_{0,i},\\phi_i)\n",
    "$$\n",
    "\n",
    "where $N_{test}$ is the number of test simulations.\n",
    "\n"
   ]
  },
  {
   "cell_type": "code",
   "execution_count": null,
   "metadata": {},
   "outputs": [],
   "source": [
    "M_vect = data_errors[:,-1]\n",
    "\n",
    "print(f\"Averaged on set of test simulations, error is M={M_vect.mean()} %\")"
   ]
  },
  {
   "cell_type": "markdown",
   "metadata": {},
   "source": [
    "The results must be taken with caution, as the fitness function is not perfect. Amonsgt other potentiel issues we can note:\n",
    "\n",
    "+ If the profile are slightly shifted (for example if the ignition delay is mispredicted), it will lead to large errors. A solution could be to add the ignition delay in teh fitness and compute profiles errors in a progress variable space.\n",
    "+ When profiles are close to $0$, it can lead to large errors (for example if we predict $10^{-6}$ instead of $10^{-7}$ for a major species). This will artificially increase errors.\n",
    "\n",
    "Other fitness functions are possible, feel free to implement other ones."
   ]
  },
  {
   "cell_type": "markdown",
   "metadata": {},
   "source": [
    "## Enforcing physical information: soft constraints "
   ]
  },
  {
   "cell_type": "markdown",
   "metadata": {},
   "source": [
    "In the strategy employed above, the ANN model freely predicts the new chemical states without being forced to satisfy any constraints. As already analyzed above, several constraints must be satisfied. First, mass fractions should sum up to $1$:\n",
    "\n",
    "$$\n",
    "\\sum_{k=1}^{N_S} Y_k = 1\n",
    "$$\n",
    "\n",
    "Additionally, elements must be conserved. This amounts to say that the elements mass fractions must be equal for the ANN inputs and outputs:\n",
    "\n",
    "$$\n",
    "Y_e^{in} = Y_e^{out}\n",
    "$$\n",
    "\n",
    "One way to lead the ANN towards verifying constraints is to add penalization terms in the loss functions. Those are then called **soft constraints**. In the present case, we will consider two loss functions. The first one tries to impose mass conservation:\n",
    "\n",
    "$$\n",
    "\\mathcal{L}_{mass} = \\frac{1}{N} \\sum_{i=1}^{N} \\frac{1}{N_S} \\sum_{k=1}^{N_S} \\left( Y_{k,i}^n - Y_{k,i}^{n,*} \\right)^2 + \\alpha_{mass} \\frac{1}{N} \\sum_{i=1}^{N} \\left( \\sum_{k=1}^{N_S} Y_k - 1 \\right)^2\n",
    "$$\n",
    "\n",
    "where $\\alpha_{mass}$ is a hyperparameter to control the constraint weight in the loss.\n",
    "\n",
    "Another loss can be defined by adding a penalty term for elements conservation:\n",
    "\n",
    "$$\n",
    "\\mathcal{L}_{elt} = \\frac{1}{N} \\sum_{i=1}^{N} \\frac{1}{N_S} \\sum_{k=1}^{N_S} \\left( Y_{k,i}^n - Y_{k,i}^{n,*} \\right)^2 + \\alpha_{elt} \\frac{1}{N} \\sum_{i=1}^{N} \\frac{1}{4} \\sum_{j=1}^{4} \\left( Y_{e,j}^{out} - Y_{e,j}^{in} \\right)^2\n",
    "$$"
   ]
  },
  {
   "cell_type": "markdown",
   "metadata": {},
   "source": [
    "*Exercice 4:* complete the loss function for mass conservation."
   ]
  },
  {
   "cell_type": "code",
   "execution_count": null,
   "metadata": {},
   "outputs": [],
   "source": [
    "class sumYkLoss(nn.Module):\n",
    "    def __init__(self, alpha):\n",
    "        super(sumYkLoss, self).__init__()\n",
    "        self.alpha = alpha\n",
    "\n",
    "    def forward(self, pred, targets):\n",
    "\n",
    "        yk = Yscaler_mean + pred * (Yscaler_std+1.0e-7)\n",
    "        if log_transform:\n",
    "            yk = torch.exp(yk)\n",
    "        sum_yk = yk.sum(axis=1)\n",
    "\n",
    "        return torch.mean((pred - targets) ** 2) + self.alpha * torch.mean((sum_yk-1.0)**2)"
   ]
  },
  {
   "cell_type": "markdown",
   "metadata": {},
   "source": [
    "*Exercice 5:* complete the loss function for elements conservation."
   ]
  },
  {
   "cell_type": "code",
   "execution_count": null,
   "metadata": {},
   "outputs": [],
   "source": [
    "class ElementLoss(nn.Module):\n",
    "    def __init__(self, alpha):\n",
    "        super(ElementLoss, self).__init__()\n",
    "        self.alpha = alpha\n",
    "\n",
    "    def forward(self, pred, targets, yk_scaled_in):\n",
    "\n",
    "        # Elements input\n",
    "        yk_in = Xscaler_mean[1:] + yk_scaled_in * (Xscaler_std[1:]+1.0e-7)\n",
    "        if log_transform:\n",
    "            yk_in = torch.exp(yk_in)\n",
    "        ye_in = torch.matmul(A_element, torch.transpose(yk_in, 0, 1))\n",
    "\n",
    "        # Elements output\n",
    "        yk = Yscaler_mean + pred * (Yscaler_std+1.0e-7)\n",
    "        if log_transform:\n",
    "            yk = torch.exp(yk)\n",
    "        ye_out = torch.matmul(A_element, torch.transpose(yk, 0, 1))\n",
    "\n",
    "        return torch.mean((pred - targets) ** 2) + self.alpha * torch.mean((ye_out - ye_in) ** 2)"
   ]
  },
  {
   "cell_type": "markdown",
   "metadata": {},
   "source": [
    "We will begin from the model already trained without constraints. You can also choose to train a new model from scratch. We can redo the training loop and setting one of the new losses: (feel free to test both)"
   ]
  },
  {
   "cell_type": "code",
   "execution_count": null,
   "metadata": {},
   "outputs": [],
   "source": [
    "n_epochs = 100\n",
    "alpha = 100.0\n",
    "\n",
    "# loss_fn = sumYkLoss(alpha)\n",
    "# need_ini_val = False\n",
    "\n",
    "loss_fn = ElementLoss(alpha)\n",
    "need_ini_val = True\n",
    "\n",
    "epochs, epochs_small, loss_list, val_loss_list, stats_sum_yk, stats_A_elements = main_training_loop(X_train, X_val, Y_train, Y_val, loss_fn, optimizer, n_epochs, model, log_transform, need_ini_val)"
   ]
  },
  {
   "cell_type": "code",
   "execution_count": null,
   "metadata": {},
   "outputs": [],
   "source": [
    "torch.save(model.state_dict(), os.path.join(folder,\"pytorch_mlp_soft.pt\"))"
   ]
  },
  {
   "cell_type": "markdown",
   "metadata": {},
   "source": [
    "We can plot again the metrics:"
   ]
  },
  {
   "cell_type": "code",
   "execution_count": null,
   "metadata": {},
   "outputs": [],
   "source": [
    "plot_losses_conservation(epochs, epochs_small, loss_list, val_loss_list, stats_sum_yk, stats_A_elements)"
   ]
  },
  {
   "cell_type": "markdown",
   "metadata": {},
   "source": [
    "We can recompute the test simulations using the new model:"
   ]
  },
  {
   "cell_type": "code",
   "execution_count": null,
   "metadata": {},
   "outputs": [],
   "source": [
    "list_test_results = []\n",
    "\n",
    "fails = 0\n",
    "for i, row in df_sim_test.iterrows():\n",
    "\n",
    "    phi_ini = row['Phi']\n",
    "    temperature_ini = row['T0']\n",
    "\n",
    "    print(f\"Performing test computation for phi={phi_ini}; T0={temperature_ini}\")\n",
    "\n",
    "    df_exact, df_nn, fail = compute_nn_cantera_0D_homo(device, model, Xscaler, Yscaler, phi_ini, temperature_ini, dt, dtb_params)\n",
    "\n",
    "    fails += fail\n",
    "\n",
    "    list_test_results.append((df_exact, df_nn))\n",
    "\n",
    "\n",
    "print(f\"Total number of simulations which crashed: {fails}\")"
   ]
  },
  {
   "cell_type": "markdown",
   "metadata": {},
   "source": [
    "We can again plot results for a given simulation:"
   ]
  },
  {
   "cell_type": "code",
   "execution_count": null,
   "metadata": {},
   "outputs": [],
   "source": [
    "i_sim = 40\n",
    "spec_to_plot = \"H2O2\"\n",
    "plot_results_sim(i_sim, list_test_results, spec_to_plot)"
   ]
  },
  {
   "cell_type": "markdown",
   "metadata": {},
   "source": [
    "Compute the errors:"
   ]
  },
  {
   "cell_type": "code",
   "execution_count": null,
   "metadata": {},
   "outputs": [],
   "source": [
    "data_errors_soft_cst = compute_fitness(df_exact, df_nn)"
   ]
  },
  {
   "cell_type": "markdown",
   "metadata": {},
   "source": [
    "Plotting of the errors distribution:"
   ]
  },
  {
   "cell_type": "code",
   "execution_count": null,
   "metadata": {},
   "outputs": [],
   "source": [
    "# Getting gas species for labels\n",
    "gas = ct.Solution(mech_file)\n",
    "\n",
    "\n",
    "fig, ax = plt.subplots()\n",
    "\n",
    "sns.boxplot(data_errors_soft_cst, ax=ax)\n",
    "\n",
    "custom_labels = [\"T\"] + gas.species_names + [\"Total\"]\n",
    "ax.set_xticklabels(custom_labels)"
   ]
  },
  {
   "cell_type": "code",
   "execution_count": null,
   "metadata": {},
   "outputs": [],
   "source": [
    "M_vect = data_errors_soft_cst[:,-1]\n",
    "\n",
    "print(f\"Averaged on set of test simulations, error is M={M_vect.mean()} %\")"
   ]
  },
  {
   "cell_type": "code",
   "execution_count": null,
   "metadata": {},
   "outputs": [],
   "source": [
    "i_sim_max = data_errors_soft_cst[:,-1].argmax()\n",
    "print(f\"Simulation with largest error: {i_sim_max}\")\n",
    "print(f\"Error is: {data_errors_soft_cst[:,-1][i_sim_max]} %\")"
   ]
  },
  {
   "cell_type": "markdown",
   "metadata": {},
   "source": [
    "## Enforcing physical information: hard constraints "
   ]
  },
  {
   "cell_type": "markdown",
   "metadata": {},
   "source": [
    "We saw that adding soft constraints is not sufficient to absolutely guarantee the conservation of mass and elements. An alternative way is to use hard constraints, where constraints are directly encoded in the neural network. In this case, conservation of elements is guaranteed at inference.\n",
    "\n",
    "**Remark:** the method that will be exposed here is not compatible yet with logarithm transform due to issues with back-propagation convergence; and also to the fact that the thresholding removes some mass. For this reason, we encourage you to re-run this notebook using a second database, without log transform. In order to get interesting results, it is then necessary to limit the ignition zone where log was necessary. To do so, you can increase the initial temperatures of the reactors. We can choose $T_0 \\in [2100, 2200]$ K for example.\n",
    "\n",
    "In this section, we will focus on elements conservation only, as it leads also to mass conservation. As discussed earlier we have:\n",
    "\n",
    "$$\n",
    "\\mathcal{A}Y^{in} = \\mathcal{A}Y^{out}\n",
    "$$\n",
    "\n",
    "The idea is to add a final layer (without any trainable parameter) which will perform a projection on a space were elements are conserved. We will note $Y'$ the vector before applying this layer. The idea followed here (not the only solution) is to balance the mass of elements using a pre-defined set of \"balancing\" species, containing at least of instance of each element. As we deal with combustion, we choose here: $CO_2$, $H_2O$, $O_2$ and $N_2$ (for hydrogen $CO_2$ is removed). The vector $Y'$ is corrected as follows:\n",
    "\n",
    "$$\n",
    "Y^{out} = Y' + \\epsilon\n",
    "$$\n",
    "\n",
    "where $\\epsilon$ is a correction term computed to balance elements. We have then:\n",
    "\n",
    "$$\n",
    "\\mathcal{A} \\epsilon = \\mathcal{A} \\left(Y^{in} -Y' \\right)\n",
    "$$\n",
    "\n",
    "\n",
    "This system has $N_S$ unknowns (components of $\\epsilon$) but only 4 equations (or 3 for $H_2$) and is therefore indeterminated. We use here the selected balancing species, and define:\n",
    "\n",
    "$$\n",
    "\\epsilon' = \\left( \\epsilon_{CO_2}, \\epsilon_{H_2O}, \\epsilon_{O_2}, \\epsilon_{N_2} \\right)\n",
    "$$\n",
    "\n",
    "The new system is then:\n",
    "\n",
    "$$\n",
    "\\mathcal{A} \\epsilon' = \\mathcal{A}' \\left(Y^{in} -Y' \\right)\n",
    "$$\n",
    "\n",
    "where $\\mathcal{A}'$ is a sub-matrix of $\\mathcal{A}$ containing only the columns associated to balancing species. Finally we can solve the linear system:\n",
    "\n",
    "$$\n",
    "\\epsilon' = \\mathcal{A}'^{-1} \\mathcal{A} \\left(Y^{in} -Y' \\right)\n",
    "$$\n",
    "\n",
    "And we have: $Y^{out} = Y' + \\epsilon'$"
   ]
  },
  {
   "cell_type": "markdown",
   "metadata": {},
   "source": [
    "First, we will precompute the matrix $\\mathcal{A}'^{-1}$, based on the already computed $\\mathcal{A}$ matrix:"
   ]
  },
  {
   "cell_type": "code",
   "execution_count": null,
   "metadata": {},
   "outputs": [],
   "source": [
    "nb_species = len(gas.species_names)\n",
    "\n",
    "# For H2, we need here to remove carbon\n",
    "if fuel==\"H2\":\n",
    "    A_element_final = A_element[1:,:]\n",
    "else:\n",
    "    A_element_final = A_element\n",
    "\n",
    "\n",
    "# We define balancing species (without CO2 if H2 is considered)\n",
    "if fuel==\"H2\":\n",
    "    balancing_species = [\"H2O\", \"O2\", \"N2\"]\n",
    "    mass_per_atom_array = np.array([1.008, 15.999, 14.007])\n",
    "else:\n",
    "    balancing_species = [\"CO2\", \"H2O\", \"O2\", \"N2\"]\n",
    "    mass_per_atom_array = np.array([12.011, 1.008, 15.999])\n",
    "\n",
    "# We transpose the matrix, as it will be needed in this form in the ann model (because X are of shape (n_samples, N_S))\n",
    "A_element_t = torch.transpose(A_element_final, 0, 1)\n",
    "        \n",
    "# We construct the matrix A' by selecting balancing species only\n",
    "A_reduced = A_element_final[:,[gas.species_names.index(spec) for spec in balancing_species]]\n",
    "        \n",
    "# We invert A'\n",
    "A_reduced_inv = torch.linalg.inv(A_reduced)\n",
    "    \n",
    "# We want to automatically add 0 for non-balancing species, we therefore add liens of 0 in the matrix\n",
    "A_inv_final = torch.zeros((nb_species, len(balancing_species)))\n",
    "for i, spec in enumerate(balancing_species):\n",
    "    A_inv_final[gas.species_names.index(spec),:] = A_reduced_inv[i,:]\n",
    "    \n",
    "# We will also need the transpose\n",
    "A_inv_final_t = torch.transpose(A_inv_final, 0, 1)\n",
    "\n",
    "# Sending to GPU\n",
    "A_element_t = A_element_t.to(device)\n",
    "A_inv_final_t = A_inv_final_t.to(device)"
   ]
  },
  {
   "cell_type": "markdown",
   "metadata": {},
   "source": [
    "We then define a new Pytorch model.\n",
    "\n",
    "*Exercice 6:* Complete the *forward* method of the newly defined model."
   ]
  },
  {
   "cell_type": "code",
   "execution_count": null,
   "metadata": {},
   "outputs": [],
   "source": [
    "class ChemNN_Element(nn.Module):\n",
    "    def __init__(self):\n",
    "        super().__init__()\n",
    "        self.hidden1 = nn.Linear(n_in, 60)\n",
    "        self.act1 = nn.ReLU()\n",
    "        self.hidden2 = nn.Linear(60, 60)\n",
    "        self.act2 = nn.ReLU()\n",
    "        self.output = nn.Linear(60, n_out)\n",
    " \n",
    "    def forward(self, input):\n",
    "        \n",
    "        x = self.act1(self.hidden1(input))\n",
    "        x = self.act2(self.hidden2(x))\n",
    "        x = self.output(x)\n",
    "\n",
    "        # Unscale previous layer\n",
    "        x_unscaled = Yscaler_mean + (Yscaler_std + 1e-7)*x\n",
    "        if log_transform:\n",
    "            x_unscaled = torch.exp(x_unscaled)\n",
    "\n",
    "        # Unscale input\n",
    "        input_unscaled = Xscaler_mean[1:] + (Xscaler_std[1:] + 1e-7)*input[:,1:]\n",
    "        if log_transform:\n",
    "            input_unscaled = torch.exp(input_unscaled)\n",
    "\n",
    "        # Getting Yj's (atomic mass fractions) and computing missing masses\n",
    "        Y_el_initial = torch.matmul(input_unscaled, A_element_t)\n",
    "        Y_el_p = torch.matmul(x_unscaled, A_element_t)\n",
    "        delta_Y_el = Y_el_initial - Y_el_p\n",
    "\n",
    "        # Computing epsilon_k's (correction to balancing species: \"CO2\", \"H2O\", \"O2\", \"N2\")\n",
    "        epsilon_k = torch.matmul(delta_Y_el, A_inv_final_t)\n",
    "\n",
    "        # Updating Yk\n",
    "        outputs = x_unscaled + epsilon_k  \n",
    "\n",
    "        # Log & scale\n",
    "        if log_transform:\n",
    "            outputs[outputs < threshold] = threshold\n",
    "            outputs = torch.log(outputs)\n",
    "        outputs = (outputs - Yscaler_mean)/(Yscaler_std+1.0e-7)\n",
    "\n",
    "        return outputs"
   ]
  },
  {
   "cell_type": "markdown",
   "metadata": {},
   "source": [
    "We instantiate the new model. We can also read parameters from the already trained baseline model is we want to. In this case, we need to make sure that the model structure (except final layer) is the same."
   ]
  },
  {
   "cell_type": "code",
   "execution_count": null,
   "metadata": {},
   "outputs": [],
   "source": [
    "model_cst = ChemNN_Element()\n",
    "\n",
    "# Load previous model parameters\n",
    "trained_model_file = os.path.join(folder, \"pytorch_mlp.pt\")\n",
    "model_cst.load_state_dict(torch.load(trained_model_file))\n",
    "print(model_cst)\n",
    "\n",
    "model_cst = model_cst.to(device)"
   ]
  },
  {
   "cell_type": "markdown",
   "metadata": {},
   "source": [
    "We can then proceed with the training:"
   ]
  },
  {
   "cell_type": "code",
   "execution_count": null,
   "metadata": {},
   "outputs": [],
   "source": [
    "n_epochs = 100\n",
    "\n",
    "loss_fn = nn.MSELoss()\n",
    "optimizer = optim.Adam(model_cst.parameters(), lr=0.001)\n",
    "\n",
    "epochs, epochs_small, loss_list, val_loss_list, stats_sum_yk, stats_A_elements = main_training_loop(X_train, X_val, Y_train, Y_val, loss_fn, optimizer, n_epochs, model_cst, log_transform, False)"
   ]
  },
  {
   "cell_type": "markdown",
   "metadata": {},
   "source": [
    "Saving the model:"
   ]
  },
  {
   "cell_type": "code",
   "execution_count": null,
   "metadata": {},
   "outputs": [],
   "source": [
    "torch.save(model.state_dict(), os.path.join(folder,\"pytorch_mlp_hard.pt\"))"
   ]
  },
  {
   "cell_type": "markdown",
   "metadata": {},
   "source": [
    "As before, we plot the losses and the conservation metrics:"
   ]
  },
  {
   "cell_type": "code",
   "execution_count": null,
   "metadata": {},
   "outputs": [],
   "source": [
    "plot_losses_conservation(epochs, epochs_small, loss_list, val_loss_list, stats_sum_yk, stats_A_elements)"
   ]
  },
  {
   "cell_type": "markdown",
   "metadata": {},
   "source": [
    "We compute the test simulations:"
   ]
  },
  {
   "cell_type": "code",
   "execution_count": null,
   "metadata": {},
   "outputs": [],
   "source": [
    "list_test_results = []\n",
    "\n",
    "fails = 0\n",
    "for i, row in df_sim_test.iterrows():\n",
    "\n",
    "    phi_ini = row['Phi']\n",
    "    temperature_ini = row['T0']\n",
    "\n",
    "    print(f\"Performing test computation for phi={phi_ini}; T0={temperature_ini}\")\n",
    "\n",
    "    df_exact, df_nn, fail = compute_nn_cantera_0D_homo(device, model, Xscaler, Yscaler, phi_ini, temperature_ini, dt, dtb_params)\n",
    "\n",
    "    fails += fail\n",
    "\n",
    "    list_test_results.append((df_exact, df_nn))\n",
    "\n",
    "\n",
    "print(f\"Total number of simulations which crashed: {fails}\")"
   ]
  },
  {
   "cell_type": "markdown",
   "metadata": {},
   "source": [
    "We plot results for a given simulation:"
   ]
  },
  {
   "cell_type": "code",
   "execution_count": null,
   "metadata": {},
   "outputs": [],
   "source": [
    "i_sim = 40\n",
    "spec_to_plot = \"H2O2\"\n",
    "plot_results_sim(i_sim, list_test_results, spec_to_plot)"
   ]
  },
  {
   "cell_type": "code",
   "execution_count": null,
   "metadata": {},
   "outputs": [],
   "source": [
    "data_errors_hard_cst = compute_fitness(df_exact, df_nn)"
   ]
  },
  {
   "cell_type": "code",
   "execution_count": null,
   "metadata": {},
   "outputs": [],
   "source": [
    "# Getting gas species for labels\n",
    "gas = ct.Solution(mech_file)\n",
    "\n",
    "fig, ax = plt.subplots()\n",
    "\n",
    "sns.boxplot(data_errors_hard_cst, ax=ax)\n",
    "\n",
    "custom_labels = [\"T\"] + gas.species_names + [\"Total\"]\n",
    "ax.set_xticklabels(custom_labels)"
   ]
  },
  {
   "cell_type": "code",
   "execution_count": null,
   "metadata": {},
   "outputs": [],
   "source": [
    "M_vect = data_errors_hard_cst[:,-1]\n",
    "\n",
    "print(f\"Averaged on set of test simulations, error is M={M_vect.mean()} %\")"
   ]
  },
  {
   "cell_type": "code",
   "execution_count": null,
   "metadata": {},
   "outputs": [],
   "source": [
    "i_sim_max = data_errors_hard_cst[:,-1].argmax()\n",
    "print(f\"Simulation with largest error: {i_sim_max}\")\n",
    "print(f\"Error is: {data_errors_hard_cst[:,-1][i_sim_max]} %\")"
   ]
  },
  {
   "cell_type": "markdown",
   "metadata": {},
   "source": [
    "# To go further"
   ]
  },
  {
   "cell_type": "markdown",
   "metadata": {},
   "source": [
    "Using the *0D_database_generation.ipynb* and the present notebook, you can play around and do some tests on your own. Here are some ideas:\n",
    "\n",
    "+ Variation of the sampling space: extension of the $T_0$ and/or $\\phi$ range, change of the pressure.\n",
    "\n",
    "+ Change of the sampling method, using the *dt_cvode* option.\n",
    "\n",
    "+ Applying methodology with another (bigger) chemical mechanism. The mechanism *mech_ch4_lu30.yaml* is provided, it is a 30 species mechanism for methane ($CH_4$) combustion.\n"
   ]
  }
 ],
 "metadata": {
  "kernelspec": {
   "display_name": "venv_pytorch",
   "language": "python",
   "name": "python3"
  },
  "language_info": {
   "codemirror_mode": {
    "name": "ipython",
    "version": 3
   },
   "file_extension": ".py",
   "mimetype": "text/x-python",
   "name": "python",
   "nbconvert_exporter": "python",
   "pygments_lexer": "ipython3",
   "version": "3.9.5"
  }
 },
 "nbformat": 4,
 "nbformat_minor": 2
}
